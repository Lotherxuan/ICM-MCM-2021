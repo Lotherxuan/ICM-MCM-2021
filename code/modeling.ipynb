{
 "metadata": {
  "language_info": {
   "codemirror_mode": {
    "name": "ipython",
    "version": 3
   },
   "file_extension": ".py",
   "mimetype": "text/x-python",
   "name": "python",
   "nbconvert_exporter": "python",
   "pygments_lexer": "ipython3",
   "version": "3.7.4-final"
  },
  "orig_nbformat": 2,
  "kernelspec": {
   "name": "python3",
   "display_name": "Python 3",
   "language": "python"
  }
 },
 "nbformat": 4,
 "nbformat_minor": 2,
 "cells": [
  {
   "cell_type": "code",
   "execution_count": 12,
   "metadata": {},
   "outputs": [],
   "source": [
    "import pandas as pd\n",
    "from sko.PSO import PSO\n",
    "import numpy as np\n",
    "import matplotlib.pyplot as plt\n",
    "from geopy.distance import distance"
   ]
  },
  {
   "cell_type": "code",
   "execution_count": 8,
   "metadata": {},
   "outputs": [
    {
     "output_type": "execute_result",
     "data": {
      "text/plain": [
       "     latitude   longitude      frp\n",
       "0  -36.979083  143.869362   9.0278\n",
       "1  -37.395876  148.702175  61.1422\n",
       "2  -36.360385  141.245716  10.0394\n",
       "3  -37.326302  146.998582  17.1700\n",
       "4  -37.521991  142.326735  13.3154\n",
       "..        ...         ...      ...\n",
       "95 -35.033808  143.126835   1.2592\n",
       "96 -38.101039  141.752253   6.5914\n",
       "97 -34.821044  142.132761   3.4122\n",
       "98 -38.242735  146.371048  21.8620\n",
       "99 -37.297781  141.914899   3.4466\n",
       "\n",
       "[100 rows x 3 columns]"
      ],
      "text/html": "<div>\n<style scoped>\n    .dataframe tbody tr th:only-of-type {\n        vertical-align: middle;\n    }\n\n    .dataframe tbody tr th {\n        vertical-align: top;\n    }\n\n    .dataframe thead th {\n        text-align: right;\n    }\n</style>\n<table border=\"1\" class=\"dataframe\">\n  <thead>\n    <tr style=\"text-align: right;\">\n      <th></th>\n      <th>latitude</th>\n      <th>longitude</th>\n      <th>frp</th>\n    </tr>\n  </thead>\n  <tbody>\n    <tr>\n      <td>0</td>\n      <td>-36.979083</td>\n      <td>143.869362</td>\n      <td>9.0278</td>\n    </tr>\n    <tr>\n      <td>1</td>\n      <td>-37.395876</td>\n      <td>148.702175</td>\n      <td>61.1422</td>\n    </tr>\n    <tr>\n      <td>2</td>\n      <td>-36.360385</td>\n      <td>141.245716</td>\n      <td>10.0394</td>\n    </tr>\n    <tr>\n      <td>3</td>\n      <td>-37.326302</td>\n      <td>146.998582</td>\n      <td>17.1700</td>\n    </tr>\n    <tr>\n      <td>4</td>\n      <td>-37.521991</td>\n      <td>142.326735</td>\n      <td>13.3154</td>\n    </tr>\n    <tr>\n      <td>...</td>\n      <td>...</td>\n      <td>...</td>\n      <td>...</td>\n    </tr>\n    <tr>\n      <td>95</td>\n      <td>-35.033808</td>\n      <td>143.126835</td>\n      <td>1.2592</td>\n    </tr>\n    <tr>\n      <td>96</td>\n      <td>-38.101039</td>\n      <td>141.752253</td>\n      <td>6.5914</td>\n    </tr>\n    <tr>\n      <td>97</td>\n      <td>-34.821044</td>\n      <td>142.132761</td>\n      <td>3.4122</td>\n    </tr>\n    <tr>\n      <td>98</td>\n      <td>-38.242735</td>\n      <td>146.371048</td>\n      <td>21.8620</td>\n    </tr>\n    <tr>\n      <td>99</td>\n      <td>-37.297781</td>\n      <td>141.914899</td>\n      <td>3.4466</td>\n    </tr>\n  </tbody>\n</table>\n<p>100 rows × 3 columns</p>\n</div>"
     },
     "metadata": {},
     "execution_count": 8
    }
   ],
   "source": [
    "fire_data=pd.read_csv(\"../data/output_data/output_fire_data/clustering_fire_data.csv\")\n",
    "fire_data"
   ]
  },
  {
   "cell_type": "code",
   "execution_count": null,
   "metadata": {},
   "outputs": [],
   "source": [
    "def obj_func(x_cors,y_cors):\n",
    "    res=0\n",
    "    for i in range(len(fire_data)):\n",
    "        res+=fire_data.loc[i,['frp']]\n",
    "        for j in range(len(x_cors)):\n",
    "            if(distance((x_cors[j],y_cors[j]),(fire_data.loc[i,['longitude']],fire_data.loc[i,['latitude']])).km>=5):\n",
    "                res=res-fire_data.loc[i,['frp']]\n",
    "                break"
   ]
  },
  {
   "cell_type": "code",
   "execution_count": null,
   "metadata": {},
   "outputs": [],
   "source": [
    "drone_num=30\n",
    "pso=PSO(func=obj_func,)"
   ]
  }
 ]
}